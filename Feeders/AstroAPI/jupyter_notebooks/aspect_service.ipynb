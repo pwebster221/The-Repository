{
 "cells": [
  {
   "cell_type": "code",
   "execution_count": null,
   "id": "c6bda37b-8f27-471c-9d81-81078f3b6ff0",
   "metadata": {},
   "outputs": [],
   "source": [
    "# python script to calculate aspects from single date"
   ]
  },
  {
   "cell_type": "code",
   "execution_count": null,
   "id": "b7b9839d-2536-45c4-bbc4-7c505a0a067b",
   "metadata": {},
   "outputs": [],
   "source": [
    "def calculate_aspects(positions):\n",
    "    aspects = {\n",
    "        \"Conjunction\": {\"angle\": 0, \"orb\": 8},\n",
    "        \"Opposition\": {\"angle\": 180, \"orb\": 6},\n",
    "        \"Trine\": {\"angle\": 120, \"orb\": 6},\n",
    "        \"Square\": {\"angle\": 90, \"orb\": 6},\n",
    "        \"Sextile\": {\"angle\": 60, \"orb\": 6},\n",
    "        \"Inconjunct\": {\"angle\": 150, \"orb\": 4}\n",
    "    }\n",
    "    \n",
    "    aspect_results = []\n",
    "    planets = list(positions.keys())\n",
    "    \n",
    "    for i in range(len(planets)):\n",
    "        for j in range(i + 1, len(planets)):\n",
    "            planet1 = planets[i]\n",
    "            planet2 = planets[j]\n",
    "            \n",
    "            longitude1 = positions[planet1][0]\n",
    "            longitude2 = positions[planet2][0]\n",
    "            speed1 = positions[planet1][3]\n",
    "            speed2 = positions[planet2][3]\n",
    "            \n",
    "            angle_difference = abs(longitude1 - longitude2)\n",
    "            if angle_difference > 180:\n",
    "                angle_difference = 360 - angle_difference\n",
    "            \n",
    "            for aspect, data in aspects.items():\n",
    "                orb = abs(angle_difference - data[\"angle\"])\n",
    "                if orb <= data[\"orb\"]:\n",
    "                    applying = \"applying\" if speed1 > speed2 else \"fading\"\n",
    "                    aspect_results.append({\n",
    "                        \"planet1\": planet1,\n",
    "                        \"planet2\": planet2,\n",
    "                        \"aspect\": aspect,\n",
    "                        \"angle\": angle_difference,\n",
    "                        \"orb\": orb,\n",
    "                        \"applying\": applying\n",
    "                    })\n",
    "    \n",
    "    return aspect_results"
   ]
  },
  {
   "cell_type": "code",
   "execution_count": null,
   "id": "1e13d8bd-16de-4509-9e09-392fe484fa49",
   "metadata": {},
   "outputs": [],
   "source": [
    "# calculating aspects between two different querries"
   ]
  },
  {
   "cell_type": "code",
   "execution_count": null,
   "id": "b6efdf6b-35c0-4b89-ba56-77db4a6f2210",
   "metadata": {},
   "outputs": [],
   "source": [
    "def calculate_aspects_between_instances_all_planets(positions1, positions2):\n",
    "    aspects = {\n",
    "        \"Conjunction\": {\"angle\": 0, \"orb\": 8},\n",
    "        \"Opposition\": {\"angle\": 180, \"orb\": 6},\n",
    "        \"Trine\": {\"angle\": 120, \"orb\": 6},\n",
    "        \"Square\": {\"angle\": 90, \"orb\": 6},\n",
    "        \"Sextile\": {\"angle\": 60, \"orb\": 6},\n",
    "        \"Inconjunct\": {\"angle\": 150, \"orb\": 4}\n",
    "    }\n",
    "    \n",
    "    aspect_results = []\n",
    "    planets1 = list(positions1.keys())\n",
    "    planets2 = list(positions2.keys())\n",
    "    \n",
    "    for planet1 in planets1:\n",
    "        for planet2 in planets2:\n",
    "            longitude1 = positions1[planet1][0]\n",
    "            longitude2 = positions2[planet2][0]\n",
    "            speed1 = positions1[planet1][3]\n",
    "            speed2 = positions2[planet2][3]\n",
    "            \n",
    "            angle_difference = abs(longitude1 - longitude2)\n",
    "            if angle_difference > 180:\n",
    "                angle_difference = 360 - angle_difference\n",
    "            \n",
    "            for aspect, data in aspects.items():\n",
    "                orb = abs(angle_difference - data[\"angle\"])\n",
    "                if orb <= data[\"orb\"]:\n",
    "                    applying = \"applying\" if speed1 > speed2 else \"fading\"\n",
    "                    aspect_results.append({\n",
    "                        \"planet1\": planet1,\n",
    "                        \"planet2\": planet2,\n",
    "                        \"aspect\": aspect,\n",
    "                        \"angle\": angle_difference,\n",
    "                        \"orb\": orb,\n",
    "                        \"applying\": applying\n",
    "                    })\n",
    "    \n",
    "    return aspect_results"
   ]
  }
 ],
 "metadata": {
  "kernelspec": {
   "display_name": "Python 3 (ipykernel)",
   "language": "python",
   "name": "python3"
  },
  "language_info": {
   "codemirror_mode": {
    "name": "ipython",
    "version": 3
   },
   "file_extension": ".py",
   "mimetype": "text/x-python",
   "name": "python",
   "nbconvert_exporter": "python",
   "pygments_lexer": "ipython3",
   "version": "3.12.3"
  }
 },
 "nbformat": 4,
 "nbformat_minor": 5
}
