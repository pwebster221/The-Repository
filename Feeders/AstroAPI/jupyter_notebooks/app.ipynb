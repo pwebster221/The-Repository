{
 "cells": [
  {
   "cell_type": "code",
   "execution_count": null,
   "metadata": {},
   "outputs": [],
   "source": [
    "# api_client.py\n",
    "import requests\n",
    "\n",
    "def fetch_natal_chart(api_url, params):\n",
    "    response = requests.get(api_url, params=params)\n",
    "    return response.json()\n"
   ]
  },
  {
   "cell_type": "code",
   "execution_count": null,
   "metadata": {},
   "outputs": [],
   "source": [
    "# data_parser.py\n",
    "def parse_houses(house_data):\n",
    "    # Process and return houses as needed\n",
    "    pass\n",
    "   \n",
    "def parse_aspects(aspect_data):\n",
    "    # Process and return aspects as needed\n",
    "    pass\n"
   ]
  },
  {
   "cell_type": "code",
   "execution_count": null,
   "metadata": {},
   "outputs": [],
   "source": [
    "# db_handler.py\n",
    "from neo4j import GraphDatabase\n",
    "\n",
    "class Neo4jHandler:\n",
    "    def __init__(self, uri, user, password):\n",
    "        self.driver = GraphDatabase.driver(uri, auth=(user, password))\n",
    "\n",
    "    def close(self):\n",
    "        self.driver.close()\n",
    "\n",
    "    def insert_sign(self, sign):\n",
    "        with self.driver.session() as session:\n",
    "            session.run(\"MERGE (s:Sign {name: $name})\", name=sign)\n",
    "\n",
    "    def insert_house(self, house_id, start_degree, end_degree, sign):\n",
    "        with self.driver.session() as session:\n",
    "            session.run(\"\"\"\n",
    "                MERGE (h:House {house_id: $house_id, start_degree: $start_degree, end_degree: $end_degree})\n",
    "                MERGE (h)-[:IN_SIGN]->(s:Sign {name: $sign})\n",
    "            \"\"\", house_id=house_id, start_degree=start_degree, end_degree=end_degree, sign=sign)\n"
   ]
  },
  {
   "cell_type": "code",
   "execution_count": null,
   "metadata": {},
   "outputs": [],
   "source": [
    "# main.py\n",
    "from api_client import fetch_natal_chart\n",
    "from data_parser import parse_houses, parse_aspects\n",
    "from db_handler import Neo4jHandler\n",
    "\n",
    "def main():\n",
    "    api_url = \"http://example.com/natal_chart\"\n",
    "    params = {\"user_id\": \"1234\"}\n",
    "    \n",
    "    data = fetch_natal_chart(api_url, params)\n",
    "    \n",
    "    houses = parse_houses(data['houses'])\n",
    "    aspects = parse_aspects(data['aspects'])\n",
    "    \n",
    "    db = Neo4jHandler(\"bolt://localhost:7687\", \"neo4j\", \"password\")\n",
    "    \n",
    "    for house in houses:\n",
    "        db.insert_house(house['house_id'], house['start_degree'], house['end_degree'], house['sign'])\n",
    "    \n",
    "    for aspect in aspects:\n",
    "        db.insert_aspect(aspect)\n",
    "    \n",
    "    db.close()\n",
    "\n",
    "if __name__ == \"__main__\":\n",
    "    main()"
   ]
  }
 ],
 "metadata": {
  "kernelspec": {
   "display_name": "Python 3 (ipykernel)",
   "language": "python",
   "name": "python3"
  },
  "language_info": {
   "codemirror_mode": {
    "name": "ipython",
    "version": 3
   },
   "file_extension": ".py",
   "mimetype": "text/x-python",
   "name": "python",
   "nbconvert_exporter": "python",
   "pygments_lexer": "ipython3",
   "version": "3.12.3"
  }
 },
 "nbformat": 4,
 "nbformat_minor": 4
}
