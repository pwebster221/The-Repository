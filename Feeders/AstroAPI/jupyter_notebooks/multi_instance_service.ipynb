{
 "cells": [
  {
   "cell_type": "code",
   "execution_count": null,
   "id": "84074308-5bb2-4ff3-a066-eb8788f87586",
   "metadata": {},
   "outputs": [],
   "source": []
  },
  {
   "cell_type": "code",
   "execution_count": null,
   "id": "0110cd4a-5d90-454a-8528-d88b1d9361ae",
   "metadata": {},
   "outputs": [],
   "source": [
    "# display results"
   ]
  },
  {
   "cell_type": "code",
   "execution_count": null,
   "id": "f27a0e3e-cf7b-48a6-90a5-fa6365a076cd",
   "metadata": {},
   "outputs": [],
   "source": [
    "def display_aspects_between_instances_all_planets(positions1, positions2, aspect_results):\n",
    "    for aspect in aspect_results:\n",
    "        planet1 = aspect['planet1']\n",
    "        planet2 = aspect['planet2']\n",
    "        sign1, degree1 = convert_to_sign_and_degree(positions1[planet1][0])\n",
    "        sign2, degree2 = convert_to_sign_and_degree(positions2[planet2][0])\n",
    "        \n",
    "        print(f\"{planet1}\")\n",
    "        print(f\"\\tInstance 1: {sign1} {degree1:.2f}°\")\n",
    "        print(f\"{planet2}\")\n",
    "        print(f\"\\tInstance 2: {sign2} {degree2:.2f}°\")\n",
    "        print(f\"{aspect['aspect']} ({planet1} -> {planet2})\")\n",
    "        print(f\"\\torb: {aspect['orb']:.2f}°\")\n",
    "        print(f\"\\t{aspect['applying'].capitalize()}\")\n",
    "        print()"
   ]
  }
 ],
 "metadata": {
  "kernelspec": {
   "display_name": "Python 3 (ipykernel)",
   "language": "python",
   "name": "python3"
  },
  "language_info": {
   "codemirror_mode": {
    "name": "ipython",
    "version": 3
   },
   "file_extension": ".py",
   "mimetype": "text/x-python",
   "name": "python",
   "nbconvert_exporter": "python",
   "pygments_lexer": "ipython3",
   "version": "3.12.3"
  }
 },
 "nbformat": 4,
 "nbformat_minor": 5
}
