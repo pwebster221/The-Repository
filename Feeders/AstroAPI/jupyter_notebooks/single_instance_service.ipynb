{
 "cells": [
  {
   "cell_type": "code",
   "execution_count": null,
   "metadata": {},
   "outputs": [],
   "source": [
    "# convert to sign/degree\n",
    "\n",
    "def convert_to_sign_and_degree(longitude):\n",
    "    signs = [\n",
    "        \"Aries\", \"Taurus\", \"Gemini\", \"Cancer\", \"Leo\", \"Virgo\",\n",
    "        \"Libra\", \"Scorpio\", \"Sagittarius\", \"Capricorn\", \"Aquarius\", \"Pisces\"\n",
    "    ]\n",
    "\n",
    "    # Determine the sign and degree within the sign\n",
    "    sign_index = int(longitude // 30)\n",
    "    sign = signs[sign_index]\n",
    "    degree = longitude % 30\n",
    "    \n",
    "    return sign, degree\n",
    "\n",
    "def display_planetary_positions(positions):\n",
    "    for planet_name, (longitude, latitude, distance) in positions.items():\n",
    "        sign, degree = convert_to_sign_and_degree(longitude)\n",
    "        print(f\"{planet_name} - {sign} {degree:.2f}° | Longitude: {longitude:.6f}°, Latitude: {latitude:.6f}°, Distance: {distance:.6f} AU\")\n",
    "\n",
    "# display results\n",
    "\n",
    "def display_aspects(positions, aspect_results):\n",
    "    for aspect in aspect_results:\n",
    "        planet1 = aspect['planet1']\n",
    "        planet2 = aspect['planet2']\n",
    "        sign1, degree1 = convert_to_sign_and_degree(positions[planet1][0])\n",
    "        sign2, degree2 = convert_to_sign_and_degree(positions[planet2][0])\n",
    "        \n",
    "        print(f\"{planet1}\")\n",
    "        print(f\"\\t{sign1} {degree1:.2f}°\")\n",
    "        print(f\"{planet2}\")\n",
    "        print(f\"\\t{sign2} {degree2:.2f}°\")\n",
    "        print(f\"{aspect['aspect']} ({planet1} -> {planet2})\")\n",
    "        print(f\"\\torb: {aspect['orb']:.2f}°\")\n",
    "        print(f\"\\t{aspect['applying'].capitalize()}\")\n",
    "        print()\n",
    "\n",
    "# bringing single date/location together\n",
    "\n",
    "def main():\n",
    "    # Step 1: Get user input\n",
    "    year, month, day, hour, minute, latitude, longitude = get_user_input()\n",
    "\n",
    "    # Step 2: Query planetary positions\n",
    "    positions = query_planetary_positions(year, month, day, hour, minute, latitude, longitude)\n",
    "\n",
    "    # Step 3: Calculate aspects between the planets\n",
    "    aspects = calculate_aspects(positions)\n",
    "\n",
    "    # Step 4: Display the aspects and their details\n",
    "    display_aspects(positions, aspects)\n",
    "\n",
    "if __name__ == \"__main__\":\n",
    "    main()"
   ]
  }
 ],
 "metadata": {
  "kernelspec": {
   "display_name": "Python 3 (ipykernel)",
   "language": "python",
   "name": "python3"
  },
  "language_info": {
   "codemirror_mode": {
    "name": "ipython",
    "version": 3
   },
   "file_extension": ".py",
   "mimetype": "text/x-python",
   "name": "python",
   "nbconvert_exporter": "python",
   "pygments_lexer": "ipython3",
   "version": "3.12.3"
  }
 },
 "nbformat": 4,
 "nbformat_minor": 4
}
