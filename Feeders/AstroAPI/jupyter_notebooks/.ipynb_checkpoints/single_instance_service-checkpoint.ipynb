{
 "cells": [
  {
   "cell_type": "raw",
   "metadata": {},
   "source": [
    "Every Day at, say, noon, make a transit API call with my birthdata, \n",
    "the current date & time for the transit date/time, \n",
    "and my home (currently New York City) as the transit location"
   ]
  },
  {
   "cell_type": "markdown",
   "metadata": {},
   "source": [
    "convert returned positions into aspected data\n",
    "to natal positions\n",
    "among transiting planetaey positions"
   ]
  },
  {
   "cell_type": "code",
   "execution_count": null,
   "metadata": {},
   "outputs": [],
   "source": [
    "prep converted aspect "
   ]
  },
  {
   "cell_type": "raw",
   "metadata": {},
   "source": [
    "send me an email with the transit data typed out, the .csv attached, and the status code response from the Airtable API request"
   ]
  }
 ],
 "metadata": {
  "kernelspec": {
   "display_name": "Python 3 (ipykernel)",
   "language": "python",
   "name": "python3"
  },
  "language_info": {
   "codemirror_mode": {
    "name": "ipython",
    "version": 3
   },
   "file_extension": ".py",
   "mimetype": "text/x-python",
   "name": "python",
   "nbconvert_exporter": "python",
   "pygments_lexer": "ipython3",
   "version": "3.11.0"
  }
 },
 "nbformat": 4,
 "nbformat_minor": 4
}
