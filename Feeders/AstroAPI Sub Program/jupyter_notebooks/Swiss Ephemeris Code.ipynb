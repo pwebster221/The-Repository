{
 "cells": [
  {
   "cell_type": "code",
   "execution_count": null,
   "metadata": {},
   "outputs": [],
   "source": [
    "# user input for positions/ location"
   ]
  },
  {
   "cell_type": "code",
   "execution_count": null,
   "metadata": {},
   "outputs": [],
   "source": [
    "def get_user_input():\n",
    "    # Get the date and time from the user\n",
    "    year = int(input(\"Enter year (YYYY): \"))\n",
    "    month = int(input(\"Enter month (MM): \"))\n",
    "    day = int(input(\"Enter day (DD): \"))\n",
    "    hour = int(input(\"Enter hour (24h format): \"))\n",
    "    minute = int(input(\"Enter minute: \"))\n",
    "    \n",
    "    # Get the geographical location\n",
    "    latitude = float(input(\"Enter latitude (e.g., 40.7128 for NYC): \"))\n",
    "    longitude = float(input(\"Enter longitude (e.g., -74.0060 for NYC): \"))\n",
    "    \n",
    "    return year, month, day, hour, minute, latitude, longitude"
   ]
  },
  {
   "cell_type": "code",
   "execution_count": null,
   "metadata": {},
   "outputs": [],
   "source": [
    "# pulling planetary positions"
   ]
  },
  {
   "cell_type": "code",
   "execution_count": null,
   "metadata": {},
   "outputs": [],
   "source": [
    "import swisseph as swe\n",
    "\n",
    "def query_planetary_positions(year, month, day, hour, minute, latitude, longitude):\n",
    "    # Convert date and time to Julian Day\n",
    "    julian_day = swe.julday(year, month, day, hour + minute/60.0, swe.GREG_CAL)\n",
    "    \n",
    "    # List of planets to calculate\n",
    "    planets = {\n",
    "        \"Sun\": swe.SE_SUN,\n",
    "        \"Moon\": swe.SE_MOON,\n",
    "        \"Mercury\": swe.SE_MERCURY,\n",
    "        \"Venus\": swe.SE_VENUS,\n",
    "        \"Mars\": swe.SE_MARS,\n",
    "        \"Jupiter\": swe.SE_JUPITER,\n",
    "        \"Saturn\": swe.SE_SATURN,\n",
    "        \"Uranus\": swe.SE_URANUS,\n",
    "        \"Neptune\": swe.SE_NEPTUNE,\n",
    "        \"Pluto\": swe.SE_PLUTO\n",
    "    }\n",
    "    \n",
    "    # Set path to ephemeris files\n",
    "    swe.set_ephe_path('/path/to/ephemeris/files')\n",
    "\n",
    "    positions = {}\n",
    "    \n",
    "    for planet_name, planet_id in planets.items():\n",
    "        position = swe.calc_ut(julian_day, planet_id, swe.FLG_SWIEPH | swe.FLG_SPEED)\n",
    "        \n",
    "        if position[0] < 0:\n",
    "            print(f\"Error calculating {planet_name}: {position[1]}\")\n",
    "        else:\n",
    "            longitude = position[0][0]\n",
    "            latitude = position[0][1]\n",
    "            distance = position[0][2]\n",
    "            positions[planet_name] = (longitude, latitude, distance)\n",
    "    \n",
    "    return positions"
   ]
  },
  {
   "cell_type": "code",
   "execution_count": null,
   "metadata": {},
   "outputs": [],
   "source": [
    "# convert to sign/degree"
   ]
  },
  {
   "cell_type": "code",
   "execution_count": null,
   "metadata": {},
   "outputs": [],
   "source": [
    "def convert_to_sign_and_degree(longitude):\n",
    "    signs = [\n",
    "        \"Aries\", \"Taurus\", \"Gemini\", \"Cancer\", \"Leo\", \"Virgo\",\n",
    "        \"Libra\", \"Scorpio\", \"Sagittarius\", \"Capricorn\", \"Aquarius\", \"Pisces\"\n",
    "    ]\n",
    "\n",
    "    # Determine the sign and degree within the sign\n",
    "    sign_index = int(longitude // 30)\n",
    "    sign = signs[sign_index]\n",
    "    degree = longitude % 30\n",
    "    \n",
    "    return sign, degree\n",
    "\n",
    "def display_planetary_positions(positions):\n",
    "    for planet_name, (longitude, latitude, distance) in positions.items():\n",
    "        sign, degree = convert_to_sign_and_degree(longitude)\n",
    "        print(f\"{planet_name} - {sign} {degree:.2f}° | Longitude: {longitude:.6f}°, Latitude: {latitude:.6f}°, Distance: {distance:.6f} AU\")"
   ]
  },
  {
   "cell_type": "code",
   "execution_count": null,
   "metadata": {},
   "outputs": [],
   "source": [
    "# python script to calculate aspects from single date"
   ]
  },
  {
   "cell_type": "code",
   "execution_count": null,
   "metadata": {},
   "outputs": [],
   "source": [
    "def calculate_aspects(positions):\n",
    "    aspects = {\n",
    "        \"Conjunction\": {\"angle\": 0, \"orb\": 8},\n",
    "        \"Opposition\": {\"angle\": 180, \"orb\": 6},\n",
    "        \"Trine\": {\"angle\": 120, \"orb\": 6},\n",
    "        \"Square\": {\"angle\": 90, \"orb\": 6},\n",
    "        \"Sextile\": {\"angle\": 60, \"orb\": 6},\n",
    "        \"Inconjunct\": {\"angle\": 150, \"orb\": 4}\n",
    "    }\n",
    "    \n",
    "    aspect_results = []\n",
    "    planets = list(positions.keys())\n",
    "    \n",
    "    for i in range(len(planets)):\n",
    "        for j in range(i + 1, len(planets)):\n",
    "            planet1 = planets[i]\n",
    "            planet2 = planets[j]\n",
    "            \n",
    "            longitude1 = positions[planet1][0]\n",
    "            longitude2 = positions[planet2][0]\n",
    "            speed1 = positions[planet1][3]\n",
    "            speed2 = positions[planet2][3]\n",
    "            \n",
    "            angle_difference = abs(longitude1 - longitude2)\n",
    "            if angle_difference > 180:\n",
    "                angle_difference = 360 - angle_difference\n",
    "            \n",
    "            for aspect, data in aspects.items():\n",
    "                orb = abs(angle_difference - data[\"angle\"])\n",
    "                if orb <= data[\"orb\"]:\n",
    "                    applying = \"applying\" if speed1 > speed2 else \"fading\"\n",
    "                    aspect_results.append({\n",
    "                        \"planet1\": planet1,\n",
    "                        \"planet2\": planet2,\n",
    "                        \"aspect\": aspect,\n",
    "                        \"angle\": angle_difference,\n",
    "                        \"orb\": orb,\n",
    "                        \"applying\": applying\n",
    "                    })\n",
    "    \n",
    "    return aspect_results"
   ]
  },
  {
   "cell_type": "code",
   "execution_count": null,
   "metadata": {},
   "outputs": [],
   "source": [
    "# display results"
   ]
  },
  {
   "cell_type": "code",
   "execution_count": null,
   "metadata": {},
   "outputs": [],
   "source": [
    "def display_aspects(positions, aspect_results):\n",
    "    for aspect in aspect_results:\n",
    "        planet1 = aspect['planet1']\n",
    "        planet2 = aspect['planet2']\n",
    "        sign1, degree1 = convert_to_sign_and_degree(positions[planet1][0])\n",
    "        sign2, degree2 = convert_to_sign_and_degree(positions[planet2][0])\n",
    "        \n",
    "        print(f\"{planet1}\")\n",
    "        print(f\"\\t{sign1} {degree1:.2f}°\")\n",
    "        print(f\"{planet2}\")\n",
    "        print(f\"\\t{sign2} {degree2:.2f}°\")\n",
    "        print(f\"{aspect['aspect']} ({planet1} -> {planet2})\")\n",
    "        print(f\"\\torb: {aspect['orb']:.2f}°\")\n",
    "        print(f\"\\t{aspect['applying'].capitalize()}\")\n",
    "        print()"
   ]
  },
  {
   "cell_type": "code",
   "execution_count": null,
   "metadata": {},
   "outputs": [],
   "source": [
    "# bringing single date/location together"
   ]
  },
  {
   "cell_type": "code",
   "execution_count": null,
   "metadata": {},
   "outputs": [],
   "source": [
    "def main():\n",
    "    # Step 1: Get user input\n",
    "    year, month, day, hour, minute, latitude, longitude = get_user_input()\n",
    "\n",
    "    # Step 2: Query planetary positions\n",
    "    positions = query_planetary_positions(year, month, day, hour, minute, latitude, longitude)\n",
    "\n",
    "    # Step 3: Calculate aspects between the planets\n",
    "    aspects = calculate_aspects(positions)\n",
    "\n",
    "    # Step 4: Display the aspects and their details\n",
    "    display_aspects(positions, aspects)\n",
    "\n",
    "if __name__ == \"__main__\":\n",
    "    main()"
   ]
  },
  {
   "cell_type": "code",
   "execution_count": null,
   "metadata": {},
   "outputs": [],
   "source": [
    "# querry two different dates/times/locations at once"
   ]
  },
  {
   "cell_type": "code",
   "execution_count": null,
   "metadata": {},
   "outputs": [],
   "source": [
    "def query_positions_for_two_instances(date1, date2, location1, location2):\n",
    "    # Unpack the inputs for the first instance\n",
    "    year1, month1, day1, hour1, minute1, latitude1, longitude1 = date1 + location1\n",
    "    \n",
    "    # Unpack the inputs for the second instance\n",
    "    year2, month2, day2, hour2, minute2, latitude2, longitude2 = date2 + location2\n",
    "    \n",
    "    # Query positions for the first date/time/location\n",
    "    positions1 = query_planetary_positions(year1, month1, day1, hour1, minute1, latitude1, longitude1)\n",
    "    \n",
    "    # Query positions for the second date/time/location\n",
    "    positions2 = query_planetary_positions(year2, month2, day2, hour2, minute2, latitude2, longitude2)\n",
    "    \n",
    "    return positions1, positions2"
   ]
  },
  {
   "cell_type": "code",
   "execution_count": null,
   "metadata": {},
   "outputs": [],
   "source": [
    "# calculating aspects between two different querries"
   ]
  },
  {
   "cell_type": "code",
   "execution_count": null,
   "metadata": {},
   "outputs": [],
   "source": [
    "def calculate_aspects_between_instances_all_planets(positions1, positions2):\n",
    "    aspects = {\n",
    "        \"Conjunction\": {\"angle\": 0, \"orb\": 8},\n",
    "        \"Opposition\": {\"angle\": 180, \"orb\": 6},\n",
    "        \"Trine\": {\"angle\": 120, \"orb\": 6},\n",
    "        \"Square\": {\"angle\": 90, \"orb\": 6},\n",
    "        \"Sextile\": {\"angle\": 60, \"orb\": 6},\n",
    "        \"Inconjunct\": {\"angle\": 150, \"orb\": 4}\n",
    "    }\n",
    "    \n",
    "    aspect_results = []\n",
    "    planets1 = list(positions1.keys())\n",
    "    planets2 = list(positions2.keys())\n",
    "    \n",
    "    for planet1 in planets1:\n",
    "        for planet2 in planets2:\n",
    "            longitude1 = positions1[planet1][0]\n",
    "            longitude2 = positions2[planet2][0]\n",
    "            speed1 = positions1[planet1][3]\n",
    "            speed2 = positions2[planet2][3]\n",
    "            \n",
    "            angle_difference = abs(longitude1 - longitude2)\n",
    "            if angle_difference > 180:\n",
    "                angle_difference = 360 - angle_difference\n",
    "            \n",
    "            for aspect, data in aspects.items():\n",
    "                orb = abs(angle_difference - data[\"angle\"])\n",
    "                if orb <= data[\"orb\"]:\n",
    "                    applying = \"applying\" if speed1 > speed2 else \"fading\"\n",
    "                    aspect_results.append({\n",
    "                        \"planet1\": planet1,\n",
    "                        \"planet2\": planet2,\n",
    "                        \"aspect\": aspect,\n",
    "                        \"angle\": angle_difference,\n",
    "                        \"orb\": orb,\n",
    "                        \"applying\": applying\n",
    "                    })\n",
    "    \n",
    "    return aspect_results"
   ]
  },
  {
   "cell_type": "code",
   "execution_count": null,
   "metadata": {},
   "outputs": [],
   "source": [
    "# display results"
   ]
  },
  {
   "cell_type": "code",
   "execution_count": null,
   "metadata": {},
   "outputs": [],
   "source": [
    "def display_aspects_between_instances_all_planets(positions1, positions2, aspect_results):\n",
    "    for aspect in aspect_results:\n",
    "        planet1 = aspect['planet1']\n",
    "        planet2 = aspect['planet2']\n",
    "        sign1, degree1 = convert_to_sign_and_degree(positions1[planet1][0])\n",
    "        sign2, degree2 = convert_to_sign_and_degree(positions2[planet2][0])\n",
    "        \n",
    "        print(f\"{planet1}\")\n",
    "        print(f\"\\tInstance 1: {sign1} {degree1:.2f}°\")\n",
    "        print(f\"{planet2}\")\n",
    "        print(f\"\\tInstance 2: {sign2} {degree2:.2f}°\")\n",
    "        print(f\"{aspect['aspect']} ({planet1} -> {planet2})\")\n",
    "        print(f\"\\torb: {aspect['orb']:.2f}°\")\n",
    "        print(f\"\\t{aspect['applying'].capitalize()}\")\n",
    "        print()"
   ]
  },
  {
   "cell_type": "code",
   "execution_count": null,
   "metadata": {},
   "outputs": [],
   "source": [
    "# bring two inputs together"
   ]
  },
  {
   "cell_type": "code",
   "execution_count": null,
   "metadata": {},
   "outputs": [],
   "source": []
  }
 ],
 "metadata": {
  "kernelspec": {
   "display_name": "Python 3 (ipykernel)",
   "language": "python",
   "name": "python3"
  },
  "language_info": {
   "codemirror_mode": {
    "name": "ipython",
    "version": 3
   },
   "file_extension": ".py",
   "mimetype": "text/x-python",
   "name": "python",
   "nbconvert_exporter": "python",
   "pygments_lexer": "ipython3",
   "version": "3.11.0"
  }
 },
 "nbformat": 4,
 "nbformat_minor": 4
}
