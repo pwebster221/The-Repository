{
 "cells": [
  {
   "cell_type": "code",
   "execution_count": null,
   "metadata": {},
   "outputs": [],
   "source": [
    "Neo4j Repository "
   ]
  },
  {
   "cell_type": "code",
   "execution_count": null,
   "metadata": {},
   "outputs": [],
   "source": [
    "Create Elements\n",
    "\n",
    "create (:Element{name:Fire, aspect:Love, which:Empowers, Enlivens, domain:Power, Passion}),\n",
    "(:Element{name:Water, aspect:Hope, which:Cleanses, Nourishes, domain:Persistence, Prophecy}),\n",
    "(:Element{name:Air, aspect:Truth, which:Clears, Soothes, domain:Intellect, Vision}),\n",
    "(:Element{name:Earth, aspect:Faith, which:Grounds, Sustains, domain:Balance, Humility}),\n",
    "(:Element{name:Divine, aspect:Will, which:Blesses, Heals, domain:Compassion, Grace})"
   ]
  }
 ],
 "metadata": {
  "kernelspec": {
   "display_name": "Python 3 (ipykernel)",
   "language": "python",
   "name": "python3"
  },
  "language_info": {
   "codemirror_mode": {
    "name": "ipython",
    "version": 3
   },
   "file_extension": ".py",
   "mimetype": "text/x-python",
   "name": "python",
   "nbconvert_exporter": "python",
   "pygments_lexer": "ipython3",
   "version": "3.11.0"
  }
 },
 "nbformat": 4,
 "nbformat_minor": 4
}
